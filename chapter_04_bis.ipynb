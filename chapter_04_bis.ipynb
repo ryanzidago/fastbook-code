{
 "cells": [
  {
   "cell_type": "code",
   "execution_count": null,
   "source": [
    "#hide\n",
    "!pip install -Uqq fastbook\n",
    "import fastbook\n",
    "fastbook.setup_book()\n",
    "\n",
    "#hide\n",
    "from fastai.vision.all import *\n",
    "from fastbook import *"
   ],
   "outputs": [],
   "metadata": {}
  },
  {
   "cell_type": "code",
   "execution_count": null,
   "source": [
    "def build_x(path):\n",
    "    x = get_image_files(path).sorted()\n",
    "    x = [tensor(Image.open(image_path)) for image_path in x]\n",
    "    x = torch.stack(x)\n",
    "    x = x.float() / 255\n",
    "    return x.view(-1, 28 * 28)\n",
    "\n",
    "def build_y(path):\n",
    "    y = get_image_files(path).sorted()\n",
    "    y = [int(image_path.parent.name) for image_path in y]\n",
    "    return tensor(y)\n",
    "\n",
    "def build_dl(x, y):\n",
    "    dset = list(zip(x, y))\n",
    "    return DataLoader(dset, batch_size=256, shuffle=True)\n",
    "\n",
    "path = \"/home/user/fastbook/fruits_and_vegetables\"\n",
    "path = Path(path)\n",
    "\n",
    "print(path)\n",
    "\n",
    "(train_x, train_y) = (build_x(path/\"train\"), build_y(path/\"train\"))\n",
    "train_dl = build_dl(train_x, train_y)\n",
    "\n",
    "(valid_x, valid_y) = (build_x(path/\"valid\"), build_y(path/\"valid\"))\n",
    "valid_dl = build_dl(valid_x, valid_y)\n",
    "dls = DataLoaders(train_dl, valid_dl)\n",
    "\n",
    "simple_net = nn.Sequential(\n",
    "    nn.Linear(28 * 28, 50),\n",
    "    nn.ReLU(),\n",
    "    nn.Linear(50, 10)\n",
    ")\n",
    "\n",
    "learner = Leaner(\n",
    "    dls,\n",
    "    simple_net,\n",
    "    opt_func=SGD,\n",
    "    loss_func=nn.CrossEntropyLoss(),\n",
    "    metrics=accuarcy,\n",
    "    lr=0.001\n",
    ")\n",
    "\n",
    "learner.fit(5)"
   ],
   "outputs": [],
   "metadata": {}
  }
 ],
 "metadata": {
  "orig_nbformat": 4,
  "language_info": {
   "name": "python"
  }
 },
 "nbformat": 4,
 "nbformat_minor": 2
}